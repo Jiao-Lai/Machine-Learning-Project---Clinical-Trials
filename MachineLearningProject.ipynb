{
 "cells": [
  {
   "cell_type": "markdown",
   "metadata": {},
   "source": [
    "Load datasets and needed packages."
   ]
  },
  {
   "cell_type": "code",
   "execution_count": 3,
   "metadata": {},
   "outputs": [],
   "source": [
    "import pandas as pd\n",
    "import numpy as np\n",
    "import matplotlib.pyplot as plt\n",
    "from statsmodels.api import OLS\n",
    "import seaborn as sns\n",
    "Study_A = pd.read_csv('Study_A.csv')\n",
    "Study_B = pd.read_csv('Study_B.csv')\n",
    "Study_C = pd.read_csv('Study_C.csv')\n",
    "Study_D = pd.read_csv('Study_D.csv')\n",
    "Study_E = pd.read_csv('Study_E.csv')"
   ]
  },
  {
   "cell_type": "code",
   "execution_count": 4,
   "metadata": {},
   "outputs": [
    {
     "data": {
      "text/html": [
       "<div>\n",
       "<style scoped>\n",
       "    .dataframe tbody tr th:only-of-type {\n",
       "        vertical-align: middle;\n",
       "    }\n",
       "\n",
       "    .dataframe tbody tr th {\n",
       "        vertical-align: top;\n",
       "    }\n",
       "\n",
       "    .dataframe thead th {\n",
       "        text-align: right;\n",
       "    }\n",
       "</style>\n",
       "<table border=\"1\" class=\"dataframe\">\n",
       "  <thead>\n",
       "    <tr style=\"text-align: right;\">\n",
       "      <th></th>\n",
       "      <th>Study</th>\n",
       "      <th>Country</th>\n",
       "      <th>PatientID</th>\n",
       "      <th>SiteID</th>\n",
       "      <th>RaterID</th>\n",
       "      <th>AssessmentiD</th>\n",
       "      <th>TxGroup</th>\n",
       "      <th>VisitDay</th>\n",
       "      <th>P1</th>\n",
       "      <th>P2</th>\n",
       "      <th>...</th>\n",
       "      <th>G9</th>\n",
       "      <th>G10</th>\n",
       "      <th>G11</th>\n",
       "      <th>G12</th>\n",
       "      <th>G13</th>\n",
       "      <th>G14</th>\n",
       "      <th>G15</th>\n",
       "      <th>G16</th>\n",
       "      <th>PANSS_Total</th>\n",
       "      <th>LeadStatus</th>\n",
       "    </tr>\n",
       "  </thead>\n",
       "  <tbody>\n",
       "    <tr>\n",
       "      <th>0</th>\n",
       "      <td>A</td>\n",
       "      <td>USA</td>\n",
       "      <td>10001</td>\n",
       "      <td>20035</td>\n",
       "      <td>30076</td>\n",
       "      <td>100679</td>\n",
       "      <td>Control</td>\n",
       "      <td>0</td>\n",
       "      <td>5</td>\n",
       "      <td>5</td>\n",
       "      <td>...</td>\n",
       "      <td>5</td>\n",
       "      <td>3</td>\n",
       "      <td>3</td>\n",
       "      <td>4</td>\n",
       "      <td>3</td>\n",
       "      <td>3</td>\n",
       "      <td>3</td>\n",
       "      <td>5</td>\n",
       "      <td>107</td>\n",
       "      <td>Assign to CS</td>\n",
       "    </tr>\n",
       "    <tr>\n",
       "      <th>1</th>\n",
       "      <td>A</td>\n",
       "      <td>USA</td>\n",
       "      <td>10001</td>\n",
       "      <td>20035</td>\n",
       "      <td>30076</td>\n",
       "      <td>101017</td>\n",
       "      <td>Control</td>\n",
       "      <td>11</td>\n",
       "      <td>5</td>\n",
       "      <td>5</td>\n",
       "      <td>...</td>\n",
       "      <td>5</td>\n",
       "      <td>3</td>\n",
       "      <td>3</td>\n",
       "      <td>4</td>\n",
       "      <td>3</td>\n",
       "      <td>3</td>\n",
       "      <td>3</td>\n",
       "      <td>5</td>\n",
       "      <td>109</td>\n",
       "      <td>Assign to CS</td>\n",
       "    </tr>\n",
       "    <tr>\n",
       "      <th>2</th>\n",
       "      <td>A</td>\n",
       "      <td>USA</td>\n",
       "      <td>10001</td>\n",
       "      <td>20035</td>\n",
       "      <td>30076</td>\n",
       "      <td>102177</td>\n",
       "      <td>Control</td>\n",
       "      <td>18</td>\n",
       "      <td>4</td>\n",
       "      <td>4</td>\n",
       "      <td>...</td>\n",
       "      <td>4</td>\n",
       "      <td>2</td>\n",
       "      <td>2</td>\n",
       "      <td>3</td>\n",
       "      <td>3</td>\n",
       "      <td>2</td>\n",
       "      <td>3</td>\n",
       "      <td>4</td>\n",
       "      <td>91</td>\n",
       "      <td>Passed</td>\n",
       "    </tr>\n",
       "    <tr>\n",
       "      <th>3</th>\n",
       "      <td>A</td>\n",
       "      <td>USA</td>\n",
       "      <td>10001</td>\n",
       "      <td>20035</td>\n",
       "      <td>30076</td>\n",
       "      <td>101533</td>\n",
       "      <td>Control</td>\n",
       "      <td>25</td>\n",
       "      <td>3</td>\n",
       "      <td>3</td>\n",
       "      <td>...</td>\n",
       "      <td>3</td>\n",
       "      <td>2</td>\n",
       "      <td>2</td>\n",
       "      <td>3</td>\n",
       "      <td>3</td>\n",
       "      <td>2</td>\n",
       "      <td>3</td>\n",
       "      <td>4</td>\n",
       "      <td>80</td>\n",
       "      <td>Flagged</td>\n",
       "    </tr>\n",
       "    <tr>\n",
       "      <th>4</th>\n",
       "      <td>A</td>\n",
       "      <td>USA</td>\n",
       "      <td>10001</td>\n",
       "      <td>20035</td>\n",
       "      <td>30076</td>\n",
       "      <td>100930</td>\n",
       "      <td>Control</td>\n",
       "      <td>39</td>\n",
       "      <td>3</td>\n",
       "      <td>3</td>\n",
       "      <td>...</td>\n",
       "      <td>3</td>\n",
       "      <td>2</td>\n",
       "      <td>2</td>\n",
       "      <td>3</td>\n",
       "      <td>3</td>\n",
       "      <td>2</td>\n",
       "      <td>3</td>\n",
       "      <td>4</td>\n",
       "      <td>77</td>\n",
       "      <td>Flagged</td>\n",
       "    </tr>\n",
       "  </tbody>\n",
       "</table>\n",
       "<p>5 rows × 40 columns</p>\n",
       "</div>"
      ],
      "text/plain": [
       "  Study Country  PatientID  SiteID  RaterID  AssessmentiD  TxGroup  VisitDay  \\\n",
       "0     A     USA      10001   20035    30076        100679  Control         0   \n",
       "1     A     USA      10001   20035    30076        101017  Control        11   \n",
       "2     A     USA      10001   20035    30076        102177  Control        18   \n",
       "3     A     USA      10001   20035    30076        101533  Control        25   \n",
       "4     A     USA      10001   20035    30076        100930  Control        39   \n",
       "\n",
       "   P1  P2  ...  G9  G10  G11  G12  G13  G14  G15  G16  PANSS_Total  \\\n",
       "0   5   5  ...   5    3    3    4    3    3    3    5          107   \n",
       "1   5   5  ...   5    3    3    4    3    3    3    5          109   \n",
       "2   4   4  ...   4    2    2    3    3    2    3    4           91   \n",
       "3   3   3  ...   3    2    2    3    3    2    3    4           80   \n",
       "4   3   3  ...   3    2    2    3    3    2    3    4           77   \n",
       "\n",
       "     LeadStatus  \n",
       "0  Assign to CS  \n",
       "1  Assign to CS  \n",
       "2        Passed  \n",
       "3       Flagged  \n",
       "4       Flagged  \n",
       "\n",
       "[5 rows x 40 columns]"
      ]
     },
     "execution_count": 4,
     "metadata": {},
     "output_type": "execute_result"
    }
   ],
   "source": [
    "study = pd.concat([Study_A, Study_B, Study_C, Study_D], axis = 0).reset_index().drop(columns = 'index')\n",
    "study.head()"
   ]
  },
  {
   "cell_type": "markdown",
   "metadata": {},
   "source": [
    "Data cleaning. \n",
    "1. Check if there is missing values.\n",
    "2. Check duplicates. i.e. If a patient was assessed multiple times on the same day.\n"
   ]
  },
  {
   "cell_type": "code",
   "execution_count": 5,
   "metadata": {},
   "outputs": [],
   "source": [
    "study.isna().sum()\n",
    "dup = study.groupby(['PatientID', 'VisitDay']).size().reset_index(name = 'counts')\n",
    "dup = dup.loc[dup['counts'] > 1]\n",
    "dup = dup.merge(study, on = ['PatientID', 'VisitDay'], how = 'inner')\n",
    "study_dup = study.merge(dup, how = 'left', indicator = True)\n",
    "study_dup = study_dup.loc[study_dup._merge == 'left_only'].drop(columns = '_merge')\n",
    "dup['row_number'] = dup.groupby(['PatientID', 'VisitDay']).cumcount()+1\n",
    "dup = dup.loc[dup['row_number'] == 1].drop(columns = ['counts', 'row_number'])\n",
    "study = pd.concat([study_dup, dup], axis = 0).reset_index().drop(columns = ['index','counts'])"
   ]
  },
  {
   "cell_type": "code",
   "execution_count": 6,
   "metadata": {},
   "outputs": [],
   "source": [
    "# Create summation of positive, negative, general scores.\n",
    "study['PANSS_P'] = study.loc[:,'P1':'P7'].sum(axis = 1)\n",
    "study['PANSS_N'] = study.loc[:,'N1':'N7'].sum(axis = 1)\n",
    "study['PANSS_G'] = study.loc[:,'G1':'G16'].sum(axis = 1)\n"
   ]
  },
  {
   "cell_type": "code",
   "execution_count": 7,
   "metadata": {},
   "outputs": [],
   "source": [
    "# Combining other observations, we can see three patients have error country info. We can fix the info for PatientID = 30040.\n",
    "# For the other two patients, we need to drop their observations.\n",
    "Patient_Country_Error = study.loc[study['Country'] == 'ERROR',].PatientID.unique()\n",
    "Patient_True_Country = study[study['PatientID'].isin(Patient_Country_Error)].loc[study['Country'] != 'ERROR']\n",
    "study.loc[study.PatientID == '30040', 'Country'] = 'USA'\n",
    "study = study[(study.PatientID != '30177') & (study.PatientID != '30294')]\n"
   ]
  },
  {
   "cell_type": "markdown",
   "metadata": {},
   "source": [
    "Now our data is clean. The final step before analysis is to drop unpredictive features 'SiteID', 'RaterID', 'AssessmentiD', 'Study', and create new feature 'relevant_visit_day' which holds more info than 'VisitDay'.\n",
    "For goal 1-3, we only need valid assessments, i.e. LeadStatus = 'Passed'."
   ]
  },
  {
   "cell_type": "code",
   "execution_count": 8,
   "metadata": {},
   "outputs": [],
   "source": [
    "study = study.drop(columns = ['SiteID', 'RaterID', 'AssessmentiD', 'Study'])\n",
    "study['relevant_visit_day'] = study.sort_values(['PatientID','VisitDay']).groupby(['PatientID']).cumcount() + 1\n",
    "study_Passed = study[study.LeadStatus == 'Passed']"
   ]
  },
  {
   "cell_type": "markdown",
   "metadata": {},
   "source": [
    "Now we can start the analysis.\n",
    "Goal 1: detect the efficacy of this new medication.\n",
    "For this goal, I would like to calculate the difference between the last visit day assessment score and day 0 assessment for each, and see if the difference is significantly less than 0."
   ]
  },
  {
   "cell_type": "code",
   "execution_count": 9,
   "metadata": {},
   "outputs": [],
   "source": [
    "# 1. select day 0 observations, and last visit day observations for each patient.\n",
    "study_day0 = study_Passed[study_Passed.VisitDay == 0]\n",
    "study_last_visit = study_Passed.sort_values(['PatientID', 'VisitDay'], ascending = [True, False]).groupby(['PatientID']).first().reset_index()"
   ]
  },
  {
   "cell_type": "code",
   "execution_count": 10,
   "metadata": {},
   "outputs": [],
   "source": [
    "Patient_day0 = study_day0[['PatientID']]\n",
    "Patient_last = study_last_visit[['PatientID']]\n",
    "Patient_common = Patient_day0.merge(Patient_last)\n",
    "study_last_visit = study_last_visit.merge(Patient_common)\n",
    "Treatment_Effect = study_last_visit.merge(study_day0, on = ['PatientID', 'Country', 'TxGroup'])[['PatientID', 'Country', 'TxGroup', 'VisitDay_x', 'PANSS_Total_x', 'PANSS_Total_y', 'PANSS_P_x', 'PANSS_P_y', 'PANSS_N_x', 'PANSS_N_y', 'PANSS_G_x', 'PANSS_G_y']]\n",
    "Treatment_Effect['diff_total'] = Treatment_Effect['PANSS_Total_x'] - Treatment_Effect['PANSS_Total_y']\n",
    "Treatment_Effect['diff_P'] = Treatment_Effect['PANSS_P_x'] - Treatment_Effect['PANSS_P_y']                                                                        \n",
    "Treatment_Effect['diff_N'] = Treatment_Effect['PANSS_N_x'] - Treatment_Effect['PANSS_N_y']                                                                        \n",
    "Treatment_Effect['diff_G'] = Treatment_Effect['PANSS_G_x'] - Treatment_Effect['PANSS_G_y']                                                                        \n",
    "Treatment_Effect = Treatment_Effect.rename(columns = {'VisitDay_x':'Day_diff'})\n",
    "Treatment_Effect = Treatment_Effect.drop(Treatment_Effect.loc[:,'PANSS_Total_x':'PANSS_G_y'], axis = 1)                                                                             \n",
    "                                                                             \n",
    "                                                                             "
   ]
  },
  {
   "cell_type": "markdown",
   "metadata": {},
   "source": [
    "Run linear regression to see if the difference is significantly less than 0. \n",
    "First encode all categorical variables."
   ]
  },
  {
   "cell_type": "code",
   "execution_count": 22,
   "metadata": {},
   "outputs": [],
   "source": [
    "from sklearn.linear_model import LinearRegression\n",
    "Treatment_Effect_onehot = Treatment_Effect.copy()\n",
    "Treatment_Effect_onehot = pd.get_dummies(Treatment_Effect_onehot, columns = ['Country', 'TxGroup'], prefix = ['Country', 'TxGroup'])"
   ]
  },
  {
   "cell_type": "code",
   "execution_count": 26,
   "metadata": {
    "scrolled": true
   },
   "outputs": [
    {
     "data": {
      "text/html": [
       "<table class=\"simpletable\">\n",
       "<caption>OLS Regression Results</caption>\n",
       "<tr>\n",
       "  <th>Dep. Variable:</th>            <td>y</td>        <th>  R-squared (uncentered):</th>      <td>   0.635</td> \n",
       "</tr>\n",
       "<tr>\n",
       "  <th>Model:</th>                   <td>OLS</td>       <th>  Adj. R-squared (uncentered):</th> <td>   0.629</td> \n",
       "</tr>\n",
       "<tr>\n",
       "  <th>Method:</th>             <td>Least Squares</td>  <th>  F-statistic:       </th>          <td>   103.0</td> \n",
       "</tr>\n",
       "<tr>\n",
       "  <th>Date:</th>             <td>Mon, 05 Apr 2021</td> <th>  Prob (F-statistic):</th>           <td>  0.00</td>  \n",
       "</tr>\n",
       "<tr>\n",
       "  <th>Time:</th>                 <td>11:58:43</td>     <th>  Log-Likelihood:    </th>          <td> -6095.1</td> \n",
       "</tr>\n",
       "<tr>\n",
       "  <th>No. Observations:</th>      <td>  1744</td>      <th>  AIC:               </th>          <td>1.225e+04</td>\n",
       "</tr>\n",
       "<tr>\n",
       "  <th>Df Residuals:</th>          <td>  1715</td>      <th>  BIC:               </th>          <td>1.241e+04</td>\n",
       "</tr>\n",
       "<tr>\n",
       "  <th>Df Model:</th>              <td>    29</td>      <th>                     </th>              <td> </td>    \n",
       "</tr>\n",
       "<tr>\n",
       "  <th>Covariance Type:</th>      <td>nonrobust</td>    <th>                     </th>              <td> </td>    \n",
       "</tr>\n",
       "</table>\n",
       "<table class=\"simpletable\">\n",
       "<tr>\n",
       "   <td></td>      <th>coef</th>     <th>std err</th>      <th>t</th>      <th>P>|t|</th>  <th>[0.025</th>    <th>0.975]</th>  \n",
       "</tr>\n",
       "<tr>\n",
       "  <th>x1</th>  <td>   -0.0468</td> <td>    0.002</td> <td>  -29.970</td> <td> 0.000</td> <td>   -0.050</td> <td>   -0.044</td>\n",
       "</tr>\n",
       "<tr>\n",
       "  <th>x2</th>  <td>   -7.9273</td> <td>    1.490</td> <td>   -5.319</td> <td> 0.000</td> <td>  -10.851</td> <td>   -5.004</td>\n",
       "</tr>\n",
       "<tr>\n",
       "  <th>x3</th>  <td>   -1.4291</td> <td>    3.302</td> <td>   -0.433</td> <td> 0.665</td> <td>   -7.905</td> <td>    5.047</td>\n",
       "</tr>\n",
       "<tr>\n",
       "  <th>x4</th>  <td>   -3.4803</td> <td>    4.024</td> <td>   -0.865</td> <td> 0.387</td> <td>  -11.374</td> <td>    4.413</td>\n",
       "</tr>\n",
       "<tr>\n",
       "  <th>x5</th>  <td>   -3.1359</td> <td>    1.693</td> <td>   -1.853</td> <td> 0.064</td> <td>   -6.456</td> <td>    0.184</td>\n",
       "</tr>\n",
       "<tr>\n",
       "  <th>x6</th>  <td>   -4.9120</td> <td>    1.476</td> <td>   -3.328</td> <td> 0.001</td> <td>   -7.807</td> <td>   -2.017</td>\n",
       "</tr>\n",
       "<tr>\n",
       "  <th>x7</th>  <td>   -3.4479</td> <td>    1.349</td> <td>   -2.557</td> <td> 0.011</td> <td>   -6.093</td> <td>   -0.803</td>\n",
       "</tr>\n",
       "<tr>\n",
       "  <th>x8</th>  <td>    1.2898</td> <td>    2.437</td> <td>    0.529</td> <td> 0.597</td> <td>   -3.490</td> <td>    6.070</td>\n",
       "</tr>\n",
       "<tr>\n",
       "  <th>x9</th>  <td>   -3.3361</td> <td>    0.537</td> <td>   -6.211</td> <td> 0.000</td> <td>   -4.390</td> <td>   -2.283</td>\n",
       "</tr>\n",
       "<tr>\n",
       "  <th>x10</th> <td>    1.0307</td> <td>    1.041</td> <td>    0.990</td> <td> 0.322</td> <td>   -1.012</td> <td>    3.073</td>\n",
       "</tr>\n",
       "<tr>\n",
       "  <th>x11</th> <td>   -9.9301</td> <td>    5.697</td> <td>   -1.743</td> <td> 0.082</td> <td>  -21.104</td> <td>    1.244</td>\n",
       "</tr>\n",
       "<tr>\n",
       "  <th>x12</th> <td>    3.0095</td> <td>    2.683</td> <td>    1.122</td> <td> 0.262</td> <td>   -2.253</td> <td>    8.273</td>\n",
       "</tr>\n",
       "<tr>\n",
       "  <th>x13</th> <td>   -8.5291</td> <td>    1.869</td> <td>   -4.563</td> <td> 0.000</td> <td>  -12.195</td> <td>   -4.863</td>\n",
       "</tr>\n",
       "<tr>\n",
       "  <th>x14</th> <td>   -1.3093</td> <td>    2.244</td> <td>   -0.583</td> <td> 0.560</td> <td>   -5.711</td> <td>    3.093</td>\n",
       "</tr>\n",
       "<tr>\n",
       "  <th>x15</th> <td>   -3.9346</td> <td>    1.187</td> <td>   -3.314</td> <td> 0.001</td> <td>   -6.263</td> <td>   -1.606</td>\n",
       "</tr>\n",
       "<tr>\n",
       "  <th>x16</th> <td>   -1.6755</td> <td>    1.571</td> <td>   -1.067</td> <td> 0.286</td> <td>   -4.756</td> <td>    1.405</td>\n",
       "</tr>\n",
       "<tr>\n",
       "  <th>x17</th> <td>    1.9628</td> <td>    0.695</td> <td>    2.824</td> <td> 0.005</td> <td>    0.600</td> <td>    3.326</td>\n",
       "</tr>\n",
       "<tr>\n",
       "  <th>x18</th> <td>    1.2253</td> <td>    1.829</td> <td>    0.670</td> <td> 0.503</td> <td>   -2.361</td> <td>    4.812</td>\n",
       "</tr>\n",
       "<tr>\n",
       "  <th>x19</th> <td>   -6.2646</td> <td>    2.023</td> <td>   -3.097</td> <td> 0.002</td> <td>  -10.233</td> <td>   -2.297</td>\n",
       "</tr>\n",
       "<tr>\n",
       "  <th>x20</th> <td>    3.2235</td> <td>    1.097</td> <td>    2.937</td> <td> 0.003</td> <td>    1.071</td> <td>    5.376</td>\n",
       "</tr>\n",
       "<tr>\n",
       "  <th>x21</th> <td>   -6.9164</td> <td>    1.701</td> <td>   -4.067</td> <td> 0.000</td> <td>  -10.252</td> <td>   -3.581</td>\n",
       "</tr>\n",
       "<tr>\n",
       "  <th>x22</th> <td>    0.4580</td> <td>    1.573</td> <td>    0.291</td> <td> 0.771</td> <td>   -2.627</td> <td>    3.543</td>\n",
       "</tr>\n",
       "<tr>\n",
       "  <th>x23</th> <td>   -3.2231</td> <td>    0.630</td> <td>   -5.118</td> <td> 0.000</td> <td>   -4.458</td> <td>   -1.988</td>\n",
       "</tr>\n",
       "<tr>\n",
       "  <th>x24</th> <td>    2.9156</td> <td>    1.767</td> <td>    1.650</td> <td> 0.099</td> <td>   -0.550</td> <td>    6.382</td>\n",
       "</tr>\n",
       "<tr>\n",
       "  <th>x25</th> <td>    0.9415</td> <td>    1.472</td> <td>    0.639</td> <td> 0.523</td> <td>   -1.946</td> <td>    3.829</td>\n",
       "</tr>\n",
       "<tr>\n",
       "  <th>x26</th> <td>    8.1689</td> <td>    5.697</td> <td>    1.434</td> <td> 0.152</td> <td>   -3.005</td> <td>   19.343</td>\n",
       "</tr>\n",
       "<tr>\n",
       "  <th>x27</th> <td>    0.3833</td> <td>    1.909</td> <td>    0.201</td> <td> 0.841</td> <td>   -3.360</td> <td>    4.127</td>\n",
       "</tr>\n",
       "<tr>\n",
       "  <th>x28</th> <td>   -1.8217</td> <td>    0.461</td> <td>   -3.949</td> <td> 0.000</td> <td>   -2.727</td> <td>   -0.917</td>\n",
       "</tr>\n",
       "<tr>\n",
       "  <th>x29</th> <td>   -0.5268</td> <td>    0.377</td> <td>   -1.396</td> <td> 0.163</td> <td>   -1.267</td> <td>    0.213</td>\n",
       "</tr>\n",
       "</table>\n",
       "<table class=\"simpletable\">\n",
       "<tr>\n",
       "  <th>Omnibus:</th>       <td>33.933</td> <th>  Durbin-Watson:     </th> <td>   1.978</td>\n",
       "</tr>\n",
       "<tr>\n",
       "  <th>Prob(Omnibus):</th> <td> 0.000</td> <th>  Jarque-Bera (JB):  </th> <td>  68.186</td>\n",
       "</tr>\n",
       "<tr>\n",
       "  <th>Skew:</th>          <td>-0.019</td> <th>  Prob(JB):          </th> <td>1.56e-15</td>\n",
       "</tr>\n",
       "<tr>\n",
       "  <th>Kurtosis:</th>      <td> 3.968</td> <th>  Cond. No.          </th> <td>5.56e+03</td>\n",
       "</tr>\n",
       "</table><br/><br/>Notes:<br/>[1] R² is computed without centering (uncentered) since the model does not contain a constant.<br/>[2] Standard Errors assume that the covariance matrix of the errors is correctly specified.<br/>[3] The condition number is large, 5.56e+03. This might indicate that there are<br/>strong multicollinearity or other numerical problems."
      ],
      "text/plain": [
       "<class 'statsmodels.iolib.summary.Summary'>\n",
       "\"\"\"\n",
       "                                 OLS Regression Results                                \n",
       "=======================================================================================\n",
       "Dep. Variable:                      y   R-squared (uncentered):                   0.635\n",
       "Model:                            OLS   Adj. R-squared (uncentered):              0.629\n",
       "Method:                 Least Squares   F-statistic:                              103.0\n",
       "Date:                Mon, 05 Apr 2021   Prob (F-statistic):                        0.00\n",
       "Time:                        11:58:43   Log-Likelihood:                         -6095.1\n",
       "No. Observations:                1744   AIC:                                  1.225e+04\n",
       "Df Residuals:                    1715   BIC:                                  1.241e+04\n",
       "Df Model:                          29                                                  \n",
       "Covariance Type:            nonrobust                                                  \n",
       "==============================================================================\n",
       "                 coef    std err          t      P>|t|      [0.025      0.975]\n",
       "------------------------------------------------------------------------------\n",
       "x1            -0.0468      0.002    -29.970      0.000      -0.050      -0.044\n",
       "x2            -7.9273      1.490     -5.319      0.000     -10.851      -5.004\n",
       "x3            -1.4291      3.302     -0.433      0.665      -7.905       5.047\n",
       "x4            -3.4803      4.024     -0.865      0.387     -11.374       4.413\n",
       "x5            -3.1359      1.693     -1.853      0.064      -6.456       0.184\n",
       "x6            -4.9120      1.476     -3.328      0.001      -7.807      -2.017\n",
       "x7            -3.4479      1.349     -2.557      0.011      -6.093      -0.803\n",
       "x8             1.2898      2.437      0.529      0.597      -3.490       6.070\n",
       "x9            -3.3361      0.537     -6.211      0.000      -4.390      -2.283\n",
       "x10            1.0307      1.041      0.990      0.322      -1.012       3.073\n",
       "x11           -9.9301      5.697     -1.743      0.082     -21.104       1.244\n",
       "x12            3.0095      2.683      1.122      0.262      -2.253       8.273\n",
       "x13           -8.5291      1.869     -4.563      0.000     -12.195      -4.863\n",
       "x14           -1.3093      2.244     -0.583      0.560      -5.711       3.093\n",
       "x15           -3.9346      1.187     -3.314      0.001      -6.263      -1.606\n",
       "x16           -1.6755      1.571     -1.067      0.286      -4.756       1.405\n",
       "x17            1.9628      0.695      2.824      0.005       0.600       3.326\n",
       "x18            1.2253      1.829      0.670      0.503      -2.361       4.812\n",
       "x19           -6.2646      2.023     -3.097      0.002     -10.233      -2.297\n",
       "x20            3.2235      1.097      2.937      0.003       1.071       5.376\n",
       "x21           -6.9164      1.701     -4.067      0.000     -10.252      -3.581\n",
       "x22            0.4580      1.573      0.291      0.771      -2.627       3.543\n",
       "x23           -3.2231      0.630     -5.118      0.000      -4.458      -1.988\n",
       "x24            2.9156      1.767      1.650      0.099      -0.550       6.382\n",
       "x25            0.9415      1.472      0.639      0.523      -1.946       3.829\n",
       "x26            8.1689      5.697      1.434      0.152      -3.005      19.343\n",
       "x27            0.3833      1.909      0.201      0.841      -3.360       4.127\n",
       "x28           -1.8217      0.461     -3.949      0.000      -2.727      -0.917\n",
       "x29           -0.5268      0.377     -1.396      0.163      -1.267       0.213\n",
       "==============================================================================\n",
       "Omnibus:                       33.933   Durbin-Watson:                   1.978\n",
       "Prob(Omnibus):                  0.000   Jarque-Bera (JB):               68.186\n",
       "Skew:                          -0.019   Prob(JB):                     1.56e-15\n",
       "Kurtosis:                       3.968   Cond. No.                     5.56e+03\n",
       "==============================================================================\n",
       "\n",
       "Notes:\n",
       "[1] R² is computed without centering (uncentered) since the model does not contain a constant.\n",
       "[2] Standard Errors assume that the covariance matrix of the errors is correctly specified.\n",
       "[3] The condition number is large, 5.56e+03. This might indicate that there are\n",
       "strong multicollinearity or other numerical problems.\n",
       "\"\"\""
      ]
     },
     "execution_count": 26,
     "metadata": {},
     "output_type": "execute_result"
    }
   ],
   "source": [
    "Treatment_Effect_X = Treatment_Effect[['Country', 'Day_diff', 'TxGroup']]\n",
    "Treatment_Effect_X = pd.get_dummies(Treatment_Effect_X, columns = ['Country', 'TxGroup'], prefix = ['Country', 'TxGroup'])\n",
    "Treatment_Effect_X = Treatment_Effect_X.drop(columns = ['Country_Ukraine', 'TxGroup_Control'])\n",
    "Treatment_Effect_Y = Treatment_Effect[['diff_total']]\n",
    "model = LinearRegression()\n",
    "X = np.array(Treatment_Effect_X).reshape([-1, Treatment_Effect_X.shape[1]])\n",
    "Y = np.array(Treatment_Effect_Y).reshape([-1, 1])\n",
    "OLS(Y,X).fit().summary()\n",
    "Y_P = np.array(Treatment_Effect[['diff_P']]).reshape([-1, 1])\n",
    "Y_N = np.array(Treatment_Effect[['diff_N']]).reshape([-1, 1])\n",
    "Y_G = np.array(Treatment_Effect[['diff_G']]).reshape([-1, 1])\n",
    "OLS(Y_P,X).fit().summary()\n",
    "OLS(Y_N,X).fit().summary()\n",
    "OLS(Y_G,X).fit().summary()\n"
   ]
  },
  {
   "cell_type": "markdown",
   "metadata": {},
   "source": [
    "X29 corresponds to the variable of interest: TxGroup. The results show that the coefficients of treatment indicator are negative for diff_total, diff_P, diff_N, diff_G but they are not statistically significant different from 0."
   ]
  },
  {
   "cell_type": "code",
   "execution_count": 14,
   "metadata": {
    "scrolled": true
   },
   "outputs": [
    {
     "data": {
      "image/png": "[encoded data removed]",
      "text/plain": [
       "<Figure size 432x288 with 1 Axes>"
      ]
     },
     "metadata": {
      "needs_background": "light"
     },
     "output_type": "display_data"
    },
    {
     "data": {
      "text/html": [
       "<table class=\"simpletable\">\n",
       "<caption>OLS Regression Results</caption>\n",
       "<tr>\n",
       "  <th>Dep. Variable:</th>            <td>y</td>        <th>  R-squared (uncentered):</th>      <td>   0.741</td> \n",
       "</tr>\n",
       "<tr>\n",
       "  <th>Model:</th>                   <td>OLS</td>       <th>  Adj. R-squared (uncentered):</th> <td>   0.734</td> \n",
       "</tr>\n",
       "<tr>\n",
       "  <th>Method:</th>             <td>Least Squares</td>  <th>  F-statistic:       </th>          <td>   104.7</td> \n",
       "</tr>\n",
       "<tr>\n",
       "  <th>Date:</th>             <td>Mon, 05 Apr 2021</td> <th>  Prob (F-statistic):</th>          <td>4.44e-248</td>\n",
       "</tr>\n",
       "<tr>\n",
       "  <th>Time:</th>                 <td>11:47:29</td>     <th>  Log-Likelihood:    </th>          <td> -3315.0</td> \n",
       "</tr>\n",
       "<tr>\n",
       "  <th>No. Observations:</th>      <td>   940</td>      <th>  AIC:               </th>          <td>   6680.</td> \n",
       "</tr>\n",
       "<tr>\n",
       "  <th>Df Residuals:</th>          <td>   915</td>      <th>  BIC:               </th>          <td>   6801.</td> \n",
       "</tr>\n",
       "<tr>\n",
       "  <th>Df Model:</th>              <td>    25</td>      <th>                     </th>              <td> </td>    \n",
       "</tr>\n",
       "<tr>\n",
       "  <th>Covariance Type:</th>      <td>nonrobust</td>    <th>                     </th>              <td> </td>    \n",
       "</tr>\n",
       "</table>\n",
       "<table class=\"simpletable\">\n",
       "<tr>\n",
       "   <td></td>      <th>coef</th>     <th>std err</th>      <th>t</th>      <th>P>|t|</th>  <th>[0.025</th>    <th>0.975]</th>  \n",
       "</tr>\n",
       "<tr>\n",
       "  <th>x1</th>  <td>   -0.0343</td> <td>    0.002</td> <td>  -14.246</td> <td> 0.000</td> <td>   -0.039</td> <td>   -0.030</td>\n",
       "</tr>\n",
       "<tr>\n",
       "  <th>x2</th>  <td>  -11.3847</td> <td>    1.923</td> <td>   -5.922</td> <td> 0.000</td> <td>  -15.158</td> <td>   -7.612</td>\n",
       "</tr>\n",
       "<tr>\n",
       "  <th>x3</th>  <td>   -4.9491</td> <td>    4.229</td> <td>   -1.170</td> <td> 0.242</td> <td>  -13.248</td> <td>    3.350</td>\n",
       "</tr>\n",
       "<tr>\n",
       "  <th>x4</th>  <td>   -3.6758</td> <td>    2.584</td> <td>   -1.423</td> <td> 0.155</td> <td>   -8.746</td> <td>    1.395</td>\n",
       "</tr>\n",
       "<tr>\n",
       "  <th>x5</th>  <td>   -7.1181</td> <td>    1.877</td> <td>   -3.792</td> <td> 0.000</td> <td>  -10.802</td> <td>   -3.434</td>\n",
       "</tr>\n",
       "<tr>\n",
       "  <th>x6</th>  <td>   -3.5085</td> <td>    3.204</td> <td>   -1.095</td> <td> 0.274</td> <td>   -9.796</td> <td>    2.779</td>\n",
       "</tr>\n",
       "<tr>\n",
       "  <th>x7</th>  <td>   -7.4238</td> <td>    0.834</td> <td>   -8.901</td> <td> 0.000</td> <td>   -9.061</td> <td>   -5.787</td>\n",
       "</tr>\n",
       "<tr>\n",
       "  <th>x8</th>  <td>   -1.0069</td> <td>    1.359</td> <td>   -0.741</td> <td> 0.459</td> <td>   -3.675</td> <td>    1.661</td>\n",
       "</tr>\n",
       "<tr>\n",
       "  <th>x9</th>  <td>   -3.7823</td> <td>    4.831</td> <td>   -0.783</td> <td> 0.434</td> <td>  -13.262</td> <td>    5.698</td>\n",
       "</tr>\n",
       "<tr>\n",
       "  <th>x10</th> <td>  -11.0706</td> <td>    2.378</td> <td>   -4.655</td> <td> 0.000</td> <td>  -15.738</td> <td>   -6.403</td>\n",
       "</tr>\n",
       "<tr>\n",
       "  <th>x11</th> <td>   -4.4901</td> <td>    2.976</td> <td>   -1.509</td> <td> 0.132</td> <td>  -10.331</td> <td>    1.351</td>\n",
       "</tr>\n",
       "<tr>\n",
       "  <th>x12</th> <td>   -7.8631</td> <td>    1.738</td> <td>   -4.525</td> <td> 0.000</td> <td>  -11.273</td> <td>   -4.453</td>\n",
       "</tr>\n",
       "<tr>\n",
       "  <th>x13</th> <td>   -7.0090</td> <td>    2.020</td> <td>   -3.470</td> <td> 0.001</td> <td>  -10.973</td> <td>   -3.045</td>\n",
       "</tr>\n",
       "<tr>\n",
       "  <th>x14</th> <td>   -1.4730</td> <td>    1.046</td> <td>   -1.408</td> <td> 0.160</td> <td>   -3.527</td> <td>    0.581</td>\n",
       "</tr>\n",
       "<tr>\n",
       "  <th>x15</th> <td>   -2.2512</td> <td>    2.388</td> <td>   -0.943</td> <td> 0.346</td> <td>   -6.938</td> <td>    2.435</td>\n",
       "</tr>\n",
       "<tr>\n",
       "  <th>x16</th> <td>  -10.1135</td> <td>    2.436</td> <td>   -4.153</td> <td> 0.000</td> <td>  -14.893</td> <td>   -5.334</td>\n",
       "</tr>\n",
       "<tr>\n",
       "  <th>x17</th> <td>    0.5501</td> <td>    1.504</td> <td>    0.366</td> <td> 0.715</td> <td>   -2.402</td> <td>    3.502</td>\n",
       "</tr>\n",
       "<tr>\n",
       "  <th>x18</th> <td>  -13.9516</td> <td>    2.214</td> <td>   -6.302</td> <td> 0.000</td> <td>  -18.296</td> <td>   -9.607</td>\n",
       "</tr>\n",
       "<tr>\n",
       "  <th>x19</th> <td>   -4.3111</td> <td>    1.922</td> <td>   -2.243</td> <td> 0.025</td> <td>   -8.084</td> <td>   -0.538</td>\n",
       "</tr>\n",
       "<tr>\n",
       "  <th>x20</th> <td>   -6.5296</td> <td>    0.890</td> <td>   -7.341</td> <td> 0.000</td> <td>   -8.275</td> <td>   -4.784</td>\n",
       "</tr>\n",
       "<tr>\n",
       "  <th>x21</th> <td>   -0.0923</td> <td>    1.937</td> <td>   -0.048</td> <td> 0.962</td> <td>   -3.894</td> <td>    3.709</td>\n",
       "</tr>\n",
       "<tr>\n",
       "  <th>x22</th> <td>   -4.4914</td> <td>    2.115</td> <td>   -2.123</td> <td> 0.034</td> <td>   -8.643</td> <td>   -0.340</td>\n",
       "</tr>\n",
       "<tr>\n",
       "  <th>x23</th> <td>   -3.3052</td> <td>    2.692</td> <td>   -1.228</td> <td> 0.220</td> <td>   -8.588</td> <td>    1.977</td>\n",
       "</tr>\n",
       "<tr>\n",
       "  <th>x24</th> <td>   -3.5880</td> <td>    1.023</td> <td>   -3.506</td> <td> 0.000</td> <td>   -5.597</td> <td>   -1.579</td>\n",
       "</tr>\n",
       "<tr>\n",
       "  <th>x25</th> <td>   -0.9956</td> <td>    0.533</td> <td>   -1.867</td> <td> 0.062</td> <td>   -2.042</td> <td>    0.051</td>\n",
       "</tr>\n",
       "</table>\n",
       "<table class=\"simpletable\">\n",
       "<tr>\n",
       "  <th>Omnibus:</th>       <td>33.518</td> <th>  Durbin-Watson:     </th> <td>   1.945</td>\n",
       "</tr>\n",
       "<tr>\n",
       "  <th>Prob(Omnibus):</th> <td> 0.000</td> <th>  Jarque-Bera (JB):  </th> <td>  60.023</td>\n",
       "</tr>\n",
       "<tr>\n",
       "  <th>Skew:</th>          <td> 0.257</td> <th>  Prob(JB):          </th> <td>9.25e-14</td>\n",
       "</tr>\n",
       "<tr>\n",
       "  <th>Kurtosis:</th>      <td> 4.126</td> <th>  Cond. No.          </th> <td>4.47e+03</td>\n",
       "</tr>\n",
       "</table><br/><br/>Notes:<br/>[1] R² is computed without centering (uncentered) since the model does not contain a constant.<br/>[2] Standard Errors assume that the covariance matrix of the errors is correctly specified.<br/>[3] The condition number is large, 4.47e+03. This might indicate that there are<br/>strong multicollinearity or other numerical problems."
      ],
      "text/plain": [
       "<class 'statsmodels.iolib.summary.Summary'>\n",
       "\"\"\"\n",
       "                                 OLS Regression Results                                \n",
       "=======================================================================================\n",
       "Dep. Variable:                      y   R-squared (uncentered):                   0.741\n",
       "Model:                            OLS   Adj. R-squared (uncentered):              0.734\n",
       "Method:                 Least Squares   F-statistic:                              104.7\n",
       "Date:                Mon, 05 Apr 2021   Prob (F-statistic):                   4.44e-248\n",
       "Time:                        11:47:29   Log-Likelihood:                         -3315.0\n",
       "No. Observations:                 940   AIC:                                      6680.\n",
       "Df Residuals:                     915   BIC:                                      6801.\n",
       "Df Model:                          25                                                  \n",
       "Covariance Type:            nonrobust                                                  \n",
       "==============================================================================\n",
       "                 coef    std err          t      P>|t|      [0.025      0.975]\n",
       "------------------------------------------------------------------------------\n",
       "x1            -0.0343      0.002    -14.246      0.000      -0.039      -0.030\n",
       "x2           -11.3847      1.923     -5.922      0.000     -15.158      -7.612\n",
       "x3            -4.9491      4.229     -1.170      0.242     -13.248       3.350\n",
       "x4            -3.6758      2.584     -1.423      0.155      -8.746       1.395\n",
       "x5            -7.1181      1.877     -3.792      0.000     -10.802      -3.434\n",
       "x6            -3.5085      3.204     -1.095      0.274      -9.796       2.779\n",
       "x7            -7.4238      0.834     -8.901      0.000      -9.061      -5.787\n",
       "x8            -1.0069      1.359     -0.741      0.459      -3.675       1.661\n",
       "x9            -3.7823      4.831     -0.783      0.434     -13.262       5.698\n",
       "x10          -11.0706      2.378     -4.655      0.000     -15.738      -6.403\n",
       "x11           -4.4901      2.976     -1.509      0.132     -10.331       1.351\n",
       "x12           -7.8631      1.738     -4.525      0.000     -11.273      -4.453\n",
       "x13           -7.0090      2.020     -3.470      0.001     -10.973      -3.045\n",
       "x14           -1.4730      1.046     -1.408      0.160      -3.527       0.581\n",
       "x15           -2.2512      2.388     -0.943      0.346      -6.938       2.435\n",
       "x16          -10.1135      2.436     -4.153      0.000     -14.893      -5.334\n",
       "x17            0.5501      1.504      0.366      0.715      -2.402       3.502\n",
       "x18          -13.9516      2.214     -6.302      0.000     -18.296      -9.607\n",
       "x19           -4.3111      1.922     -2.243      0.025      -8.084      -0.538\n",
       "x20           -6.5296      0.890     -7.341      0.000      -8.275      -4.784\n",
       "x21           -0.0923      1.937     -0.048      0.962      -3.894       3.709\n",
       "x22           -4.4914      2.115     -2.123      0.034      -8.643      -0.340\n",
       "x23           -3.3052      2.692     -1.228      0.220      -8.588       1.977\n",
       "x24           -3.5880      1.023     -3.506      0.000      -5.597      -1.579\n",
       "x25           -0.9956      0.533     -1.867      0.062      -2.042       0.051\n",
       "==============================================================================\n",
       "Omnibus:                       33.518   Durbin-Watson:                   1.945\n",
       "Prob(Omnibus):                  0.000   Jarque-Bera (JB):               60.023\n",
       "Skew:                           0.257   Prob(JB):                     9.25e-14\n",
       "Kurtosis:                       4.126   Cond. No.                     4.47e+03\n",
       "==============================================================================\n",
       "\n",
       "Notes:\n",
       "[1] R² is computed without centering (uncentered) since the model does not contain a constant.\n",
       "[2] Standard Errors assume that the covariance matrix of the errors is correctly specified.\n",
       "[3] The condition number is large, 4.47e+03. This might indicate that there are\n",
       "strong multicollinearity or other numerical problems.\n",
       "\"\"\""
      ]
     },
     "execution_count": 14,
     "metadata": {},
     "output_type": "execute_result"
    }
   ],
   "source": [
    "plt.hist(Treatment_Effect_X.Day_diff)\n",
    "plt.show()\n",
    "# Repeat after dropping where Day_diff <= 100.\n",
    "Treatment_Effect_X = Treatment_Effect[Treatment_Effect['Day_diff'] > 100][['Country', 'Day_diff', 'TxGroup']]\n",
    "Treatment_Effect_X = pd.get_dummies(Treatment_Effect_X, columns = ['Country', 'TxGroup'], prefix = ['Country', 'TxGroup'])\n",
    "Treatment_Effect_X = Treatment_Effect_X.drop(columns = ['Country_Ukraine', 'TxGroup_Control'])\n",
    "Treatment_Effect_Y = Treatment_Effect[Treatment_Effect['Day_diff'] > 100][['diff_total']]\n",
    "X = np.array(Treatment_Effect_X).reshape([-1, Treatment_Effect_X.shape[1]])\n",
    "Y = np.array(Treatment_Effect_Y).reshape([-1, 1])\n",
    "OLS(Y,X).fit().summary()\n",
    "Y_P = np.array(Treatment_Effect[Treatment_Effect['Day_diff'] > 100][['diff_P']]).reshape([-1, 1])\n",
    "Y_N = np.array(Treatment_Effect[Treatment_Effect['Day_diff'] > 100][['diff_N']]).reshape([-1, 1])\n",
    "Y_G = np.array(Treatment_Effect[Treatment_Effect['Day_diff'] > 100][['diff_G']]).reshape([-1, 1])\n",
    "OLS(Y_P,X).fit().summary()\n",
    "OLS(Y_N,X).fit().summary()\n",
    "OLS(Y_G,X).fit().summary()"
   ]
  },
  {
   "cell_type": "markdown",
   "metadata": {},
   "source": [
    "\n",
    "After dropping patients whose last visit day is <= 100, model performance increased. Also, the coefficients for treatment indicator for diff_total, diff_P, diff_N, and diff_G are all statistically significant negative, meaning the medication is effective for patients who stayed in the experiment for more than 100 days."
   ]
  },
  {
   "cell_type": "markdown",
   "metadata": {},
   "source": [
    "Goal 2: Segment patients.\n",
    "For this goal, we only need day 0 observations, which is contained in the data frame study_day0.\n",
    "Since clustering methods such as k-means are based on distance, qualitative variables are not useful. The features used for clustering are assessment score P1 - P7, N1 - N7, and G1 - G16. \n",
    "We don't need to do scaling since they have the same magnitude.\n",
    "Outliers won't be an issue since the sale for all score is 1-6."
   ]
  },
  {
   "cell_type": "markdown",
   "metadata": {},
   "source": [
    "K-means clustering doesn't do well on this dataset no matter we use sub scores or aggregated scores. The explanation is probably due to scores are normally distributed and hence not a good case for k-means clustering."
   ]
  },
  {
   "cell_type": "code",
   "execution_count": 32,
   "metadata": {},
   "outputs": [
    {
     "data": {
      "image/png": "[encoded data removed]",
      "text/plain": [
       "<Figure size 576x396 with 1 Axes>"
      ]
     },
     "metadata": {},
     "output_type": "display_data"
    },
    {
     "data": {
      "text/plain": [
       "<AxesSubplot:title={'center':'Silhouette Score Elbow for KMeans Clustering'}, xlabel='k', ylabel='silhouette score'>"
      ]
     },
     "execution_count": 32,
     "metadata": {},
     "output_type": "execute_result"
    }
   ],
   "source": [
    "from sklearn.cluster import KMeans\n",
    "from sklearn.metrics import silhouette_score\n",
    "from yellowbrick.cluster import KElbowVisualizer\n",
    "# Instantiate a scikit-learn K-Means model\n",
    "model = KMeans(random_state=0)\n",
    "# Instantiate the KElbowVisualizer with the number of clusters and the metric \n",
    "visualizer = KElbowVisualizer(model, k=(2,6), metric='silhouette', timings=False)\n",
    "# Fit the data and visualize\n",
    "cluster = study_day0.loc[:, 'P1':'G16']\n",
    "cluster_total = study_day0.loc[:,'PANSS_P':'PANSS_G']\n",
    "## Cluster based on aggregated scores.\n",
    "visualizer.fit(cluster_total)    \n",
    "visualizer.poof() "
   ]
  },
  {
   "cell_type": "code",
   "execution_count": 33,
   "metadata": {},
   "outputs": [
    {
     "data": {
      "image/png": "[encoded data removed]",
      "text/plain": [
       "<Figure size 576x396 with 1 Axes>"
      ]
     },
     "metadata": {},
     "output_type": "display_data"
    }
   ],
   "source": [
    "inertia = []\n",
    "K = range(2,6)\n",
    "for k in K:\n",
    "    kMean = KMeans(n_clusters = k, init = 'random',\n",
    "                   n_init = 10, max_iter = 300, \n",
    "                   tol = 1e-04, random_state = 0).fit(cluster_total)\n",
    "    inertia.append(kMean.inertia_)\n",
    "plt.plot(K, inertia, 'bx-')\n",
    "plt.xlabel('k')\n",
    "plt.ylabel('Inertia')\n",
    "plt.show()"
   ]
  },
  {
   "cell_type": "markdown",
   "metadata": {},
   "source": [
    "We will use k = 4 to do the clustering."
   ]
  },
  {
   "cell_type": "code",
   "execution_count": 34,
   "metadata": {},
   "outputs": [],
   "source": [
    "kmean = KMeans(n_clusters = 4, init = 'random',\n",
    "                   n_init = 10, max_iter = 300, \n",
    "                   tol = 1e-04, random_state = 0).fit(cluster_total)\n",
    "label = pd.DataFrame(kmean.labels_)\n",
    "cluster_total['label'] = label\n",
    "cluster['label'] = label\n",
    "cluster['PANSS_Total'] = cluster.loc[:,'P1':'G16'].sum(axis = 1)\n",
    "cluster['PANSS_P'] = cluster.loc[:,'P1':'P7'].sum(axis = 1)\n",
    "cluster['PANSS_N'] = cluster.loc[:,'N1':'N7'].sum(axis = 1)\n",
    "cluster['PANSS_G'] = cluster.loc[:,'G1':'G16'].sum(axis = 1)"
   ]
  },
  {
   "cell_type": "markdown",
   "metadata": {},
   "source": [
    "Plot the clustering to see if observations are well clustered."
   ]
  },
  {
   "cell_type": "code",
   "execution_count": 35,
   "metadata": {},
   "outputs": [
    {
     "data": {
      "text/plain": [
       "<mpl_toolkits.mplot3d.art3d.Path3DCollection at 0x7fb3bcb3ae20>"
      ]
     },
     "execution_count": 35,
     "metadata": {},
     "output_type": "execute_result"
    },
    {
     "data": {
      "image/png": "[encoded data removed]",
      "text/plain": [
       "<Figure size 410x360 with 1 Axes>"
      ]
     },
     "metadata": {},
     "output_type": "display_data"
    },
    {
     "data": {
      "image/png": "[encoded data removed]",
      "text/plain": [
       "<Figure size 1152x648 with 1 Axes>"
      ]
     },
     "metadata": {},
     "output_type": "display_data"
    }
   ],
   "source": [
    "from mpl_toolkits import mplot3d\n",
    "sns.lmplot(x='PANSS_P',y='PANSS_N',data=cluster_total,hue='label',fit_reg=False)\n",
    "fig = plt.figure(figsize = (16, 9))\n",
    "ax = plt.axes(projection='3d')\n",
    "\n",
    "ax.scatter3D(cluster_total[cluster_total['label'] == 0].PANSS_P, cluster_total[cluster_total['label'] == 0].PANSS_N, cluster_total[cluster_total['label'] == 0].PANSS_G, c = 'g')\n",
    "ax.scatter3D(cluster_total[cluster_total['label'] == 1].PANSS_P, cluster_total[cluster_total['label'] == 1].PANSS_N, cluster_total[cluster_total['label'] == 1].PANSS_G, c = 'r')\n",
    "ax.scatter3D(cluster_total[cluster_total['label'] == 2].PANSS_P, cluster_total[cluster_total['label'] == 2].PANSS_N, cluster_total[cluster_total['label'] == 2].PANSS_G, c = 'b')\n",
    "ax.scatter3D(cluster_total[cluster_total['label'] == 3].PANSS_P, cluster_total[cluster_total['label'] == 3].PANSS_N, cluster_total[cluster_total['label'] == 3].PANSS_G, c = 'y')\n"
   ]
  },
  {
   "cell_type": "markdown",
   "metadata": {},
   "source": [
    "Use TSNE to reduce dimensionality, and then plot the clustering.\n",
    "The plots show that k-means doesn't cluster groups well."
   ]
  },
  {
   "cell_type": "code",
   "execution_count": 40,
   "metadata": {},
   "outputs": [],
   "source": [
    "from sklearn.manifold import TSNE\n",
    "tsne = TSNE(n_components=2, random_state=0)\n",
    "tsne_obj= tsne.fit_transform(cluster_total.drop('label', axis = 1))\n",
    "tsne_df = pd.DataFrame({'X':tsne_obj[:,0],\n",
    "                        'Y':tsne_obj[:,1],\n",
    "                        'label':cluster_total.label})"
   ]
  },
  {
   "cell_type": "code",
   "execution_count": 43,
   "metadata": {},
   "outputs": [
    {
     "data": {
      "text/plain": [
       "<AxesSubplot:xlabel='X', ylabel='Y'>"
      ]
     },
     "execution_count": 43,
     "metadata": {},
     "output_type": "execute_result"
    },
    {
     "data": {
      "image/png": "[encoded data removed]",
      "text/plain": [
       "<Figure size 576x396 with 1 Axes>"
      ]
     },
     "metadata": {},
     "output_type": "display_data"
    }
   ],
   "source": [
    "sns.scatterplot(x=\"X\", y=\"Y\",\n",
    "              hue=\"label\",\n",
    "              palette=['purple','red', 'orange', 'black'],\n",
    "              legend='full',\n",
    "              data=tsne_df)"
   ]
  },
  {
   "cell_type": "markdown",
   "metadata": {},
   "source": [
    "The summary statistics for each cluster do not show obvious difference."
   ]
  },
  {
   "cell_type": "code",
   "execution_count": 49,
   "metadata": {},
   "outputs": [
    {
     "data": {
      "text/html": [
       "<div>\n",
       "<style scoped>\n",
       "    .dataframe tbody tr th:only-of-type {\n",
       "        vertical-align: middle;\n",
       "    }\n",
       "\n",
       "    .dataframe tbody tr th {\n",
       "        vertical-align: top;\n",
       "    }\n",
       "\n",
       "    .dataframe thead th {\n",
       "        text-align: right;\n",
       "    }\n",
       "</style>\n",
       "<table border=\"1\" class=\"dataframe\">\n",
       "  <thead>\n",
       "    <tr style=\"text-align: right;\">\n",
       "      <th></th>\n",
       "      <th>PANSS_P</th>\n",
       "      <th>PANSS_N</th>\n",
       "      <th>PANSS_G</th>\n",
       "    </tr>\n",
       "    <tr>\n",
       "      <th>label</th>\n",
       "      <th></th>\n",
       "      <th></th>\n",
       "      <th></th>\n",
       "    </tr>\n",
       "  </thead>\n",
       "  <tbody>\n",
       "    <tr>\n",
       "      <th>0.0</th>\n",
       "      <td>29.294118</td>\n",
       "      <td>24.705882</td>\n",
       "      <td>48.382353</td>\n",
       "    </tr>\n",
       "    <tr>\n",
       "      <th>1.0</th>\n",
       "      <td>28.820513</td>\n",
       "      <td>23.692308</td>\n",
       "      <td>47.846154</td>\n",
       "    </tr>\n",
       "    <tr>\n",
       "      <th>2.0</th>\n",
       "      <td>29.250000</td>\n",
       "      <td>24.522727</td>\n",
       "      <td>49.886364</td>\n",
       "    </tr>\n",
       "    <tr>\n",
       "      <th>3.0</th>\n",
       "      <td>29.083333</td>\n",
       "      <td>24.291667</td>\n",
       "      <td>51.083333</td>\n",
       "    </tr>\n",
       "  </tbody>\n",
       "</table>\n",
       "</div>"
      ],
      "text/plain": [
       "         PANSS_P    PANSS_N    PANSS_G\n",
       "label                                 \n",
       "0.0    29.294118  24.705882  48.382353\n",
       "1.0    28.820513  23.692308  47.846154\n",
       "2.0    29.250000  24.522727  49.886364\n",
       "3.0    29.083333  24.291667  51.083333"
      ]
     },
     "execution_count": 49,
     "metadata": {},
     "output_type": "execute_result"
    }
   ],
   "source": [
    "cluster_total.groupby(['label'])[['PANSS_P', 'PANSS_N', 'PANSS_G']].mean()\n"
   ]
  },
  {
   "cell_type": "code",
   "execution_count": 46,
   "metadata": {},
   "outputs": [
    {
     "data": {
      "image/png": "[encoded data removed]",
      "text/plain": [
       "<Figure size 576x396 with 1 Axes>"
      ]
     },
     "metadata": {},
     "output_type": "display_data"
    }
   ],
   "source": [
    "## Possible reason for k-means to fail the job is that we are clustering scores, which are generally normally distributed.\n",
    "plt.hist(study_day0.PANSS_G)\n",
    "plt.show()"
   ]
  },
  {
   "cell_type": "markdown",
   "metadata": {},
   "source": [
    "Another way to segment the data using qualitative information is to classify patients based on their 'stay' status: if a patient dropped out before the end of the study.\n",
    "We use study E for this segmentation since we can figure who stay or not for this study."
   ]
  },
  {
   "cell_type": "code",
   "execution_count": 52,
   "metadata": {},
   "outputs": [],
   "source": [
    "dup = Study_E.groupby(['PatientID', 'VisitDay']).size().reset_index(name = 'counts')\n",
    "dup = dup.loc[dup['counts'] > 1].drop('counts', axis = 1)\n",
    "dup = dup.merge(Study_E, on = ['PatientID', 'VisitDay'], how = 'inner')\n",
    "study_E_dup = Study_E.merge(dup, how = 'left', indicator = True)\n",
    "study_E_dup = study_E_dup.loc[study_E_dup._merge == 'left_only'].drop(columns = '_merge')\n",
    "dup['row_number'] = dup.groupby(['PatientID', 'VisitDay']).cumcount()+1\n",
    "dup = dup.loc[dup['row_number'] == 1].drop(columns = [ 'row_number'])\n",
    "Study_E = pd.concat([study_E_dup, dup], axis = 0).reset_index().drop(columns = ['index'])"
   ]
  },
  {
   "cell_type": "code",
   "execution_count": 53,
   "metadata": {},
   "outputs": [
    {
     "name": "stderr",
     "output_type": "stream",
     "text": [
      "<ipython-input-53-92912dd28608>:5: SettingWithCopyWarning: \n",
      "A value is trying to be set on a copy of a slice from a DataFrame.\n",
      "Try using .loc[row_indexer,col_indexer] = value instead\n",
      "\n",
      "See the caveats in the documentation: https://pandas.pydata.org/pandas-docs/stable/user_guide/indexing.html#returning-a-view-versus-a-copy\n",
      "  Study_E_day0['stay'] = 0\n",
      "/opt/anaconda3/lib/python3.8/site-packages/pandas/core/indexing.py:1765: SettingWithCopyWarning: \n",
      "A value is trying to be set on a copy of a slice from a DataFrame.\n",
      "Try using .loc[row_indexer,col_indexer] = value instead\n",
      "\n",
      "See the caveats in the documentation: https://pandas.pydata.org/pandas-docs/stable/user_guide/indexing.html#returning-a-view-versus-a-copy\n",
      "  isetter(loc, value)\n"
     ]
    }
   ],
   "source": [
    "Study_E_day0 = Study_E[Study_E['VisitDay'] == 0]\n",
    "Study_E_last_day = Study_E.sort_values(['PatientID', 'VisitDay'], ascending = [True, False]).groupby(['PatientID']).first().reset_index()\n",
    "Study_E_last_day = Study_E_last_day[Study_E_last_day['VisitDay'] >= 159]\n",
    "Study_E_last_day['stay'] = 1\n",
    "Study_E_day0['stay'] = 0\n",
    "replace = Study_E_day0.PatientID.isin(Study_E_last_day.PatientID)\n",
    "Study_E_day0.loc[replace,'stay'] = 1\n",
    "drop_out_patient = Study_E_day0[Study_E_day0.stay == 0][['PatientID']] \n",
    "last_day = Study_E.sort_values(['PatientID', 'VisitDay'], ascending = [True, False]).groupby(['PatientID']).first().reset_index()\n",
    "search = last_day.PatientID.isin(drop_out_patient.PatientID)\n",
    "drop_out_patient_last_day = last_day.loc[search][['VisitDay']]\n"
   ]
  },
  {
   "cell_type": "markdown",
   "metadata": {},
   "source": [
    "The histogram of the last VisitDay for patients who dropped out shows that about 40% of these patients dropped out early: within 40 days. About 25% of patients who dropped out dis that within 20 days.\n",
    "We can build a classification model to find out predictive features for patients' 'stay' status."
   ]
  },
  {
   "cell_type": "code",
   "execution_count": 54,
   "metadata": {},
   "outputs": [
    {
     "data": {
      "image/png": "[encoded data removed]",
      "text/plain": [
       "<Figure size 576x396 with 1 Axes>"
      ]
     },
     "metadata": {},
     "output_type": "display_data"
    }
   ],
   "source": [
    "plt.hist(drop_out_patient_last_day.VisitDay)\n",
    "plt.show()"
   ]
  },
  {
   "cell_type": "code",
   "execution_count": 55,
   "metadata": {},
   "outputs": [
    {
     "name": "stderr",
     "output_type": "stream",
     "text": [
      "<ipython-input-55-54d7942ec10f>:1: SettingWithCopyWarning: \n",
      "A value is trying to be set on a copy of a slice from a DataFrame.\n",
      "Try using .loc[row_indexer,col_indexer] = value instead\n",
      "\n",
      "See the caveats in the documentation: https://pandas.pydata.org/pandas-docs/stable/user_guide/indexing.html#returning-a-view-versus-a-copy\n",
      "  Study_E_day0['PANSS_P'] = Study_E_day0.loc[:,'P1':'P7'].sum(axis = 1)\n",
      "<ipython-input-55-54d7942ec10f>:2: SettingWithCopyWarning: \n",
      "A value is trying to be set on a copy of a slice from a DataFrame.\n",
      "Try using .loc[row_indexer,col_indexer] = value instead\n",
      "\n",
      "See the caveats in the documentation: https://pandas.pydata.org/pandas-docs/stable/user_guide/indexing.html#returning-a-view-versus-a-copy\n",
      "  Study_E_day0['PANSS_N'] = Study_E_day0.loc[:,'N1':'N7'].sum(axis = 1)\n",
      "<ipython-input-55-54d7942ec10f>:3: SettingWithCopyWarning: \n",
      "A value is trying to be set on a copy of a slice from a DataFrame.\n",
      "Try using .loc[row_indexer,col_indexer] = value instead\n",
      "\n",
      "See the caveats in the documentation: https://pandas.pydata.org/pandas-docs/stable/user_guide/indexing.html#returning-a-view-versus-a-copy\n",
      "  Study_E_day0['PANSS_G'] = Study_E_day0.loc[:,'G1':'G16'].sum(axis = 1)\n"
     ]
    }
   ],
   "source": [
    "Study_E_day0['PANSS_P'] = Study_E_day0.loc[:,'P1':'P7'].sum(axis = 1)\n",
    "Study_E_day0['PANSS_N'] = Study_E_day0.loc[:,'N1':'N7'].sum(axis = 1)\n",
    "Study_E_day0['PANSS_G'] = Study_E_day0.loc[:,'G1':'G16'].sum(axis = 1)\n",
    "X = Study_E_day0[['Country', 'TxGroup', 'PANSS_P', 'PANSS_N', 'PANSS_G']]\n",
    "X = pd.get_dummies(X, columns = ['Country', 'TxGroup'], prefix = ['Country', 'TxGroup'])\n",
    "X = X.drop(columns = ['Country_USA', 'TxGroup_Control'])\n",
    "Y = Study_E_day0[['stay']]\n"
   ]
  },
  {
   "cell_type": "markdown",
   "metadata": {},
   "source": [
    "From the report of logistic regression, we can see negative PANSS score and being in Russia are important for this segmentation. Yet the model fit is not good (accuracy = 0.76), considering that around 73% of patients didn't complete the experiment."
   ]
  },
  {
   "cell_type": "code",
   "execution_count": 56,
   "metadata": {},
   "outputs": [
    {
     "name": "stdout",
     "output_type": "stream",
     "text": [
      "Optimization terminated successfully.\n",
      "         Current function value: 0.570193\n",
      "         Iterations 6\n"
     ]
    },
    {
     "name": "stderr",
     "output_type": "stream",
     "text": [
      "/opt/anaconda3/lib/python3.8/site-packages/sklearn/utils/validation.py:72: DataConversionWarning: A column-vector y was passed when a 1d array was expected. Please change the shape of y to (n_samples, ), for example using ravel().\n",
      "  return f(**kwargs)\n"
     ]
    },
    {
     "data": {
      "text/plain": [
       "0.5659647657679153"
      ]
     },
     "execution_count": 56,
     "metadata": {},
     "output_type": "execute_result"
    }
   ],
   "source": [
    "import statsmodels.api as sm \n",
    "log_reg = sm.Logit(Y, X).fit() \n",
    "log_reg.summary()\n",
    "X = np.array(X).reshape([-1, X.shape[1]])\n",
    "Y = np.array(Y).reshape([-1, 1])\n",
    "from sklearn.linear_model import LogisticRegression\n",
    "from sklearn.metrics import roc_auc_score\n",
    "lr = LogisticRegression(solver='newton-cg')\n",
    "stay_cl = lr.fit(X, Y)\n",
    "stay_cl.score(X, Y)\n",
    "from sklearn.metrics import roc_auc_score\n",
    "roc_auc_score(Y, stay_cl.decision_function(X))"
   ]
  },
  {
   "cell_type": "markdown",
   "metadata": {},
   "source": [
    "Goal 3. Predict last visit PANSS_Total for study E.\n",
    "For this goal, we first need to train a model predicting a patient's final visit PANSS_Total based on their previous assessments. A simple way is to use their second-last day assessment score as the approximate."
   ]
  },
  {
   "cell_type": "code",
   "execution_count": 57,
   "metadata": {},
   "outputs": [],
   "source": [
    "last_two = study_Passed.sort_values(['PatientID', 'VisitDay'], ascending = [True, False]).groupby(['PatientID']).head(2)\n",
    "last_two['count'] = last_two.groupby(['PatientID'])['PatientID'].transform('count')\n",
    "last_two['rank'] = last_two.sort_values(['PatientID', 'VisitDay']).groupby(['PatientID']).cumcount() + 1"
   ]
  },
  {
   "cell_type": "code",
   "execution_count": 58,
   "metadata": {},
   "outputs": [],
   "source": [
    "last = last_two[last_two['rank'] == 2]\n",
    "second_last = last_two[last_two['rank'] == 1]\n",
    "prediction = last.merge(second_last, on = ['Country', 'PatientID', 'TxGroup'], how = 'inner')\n",
    "prediction = prediction[['Country', 'PatientID', 'TxGroup', 'VisitDay_x', 'VisitDay_y', 'PANSS_Total_x', 'PANSS_Total_y', 'LeadStatus_x', 'LeadStatus_y']]\n",
    "prediction = prediction[(prediction['LeadStatus_x'] == 'Passed') & (prediction['LeadStatus_y'] == 'Passed')]\n",
    "prediction = prediction[prediction['VisitDay_x'] >= 126]"
   ]
  },
  {
   "cell_type": "code",
   "execution_count": 626,
   "metadata": {},
   "outputs": [
    {
     "data": {
      "text/html": [
       "<table class=\"simpletable\">\n",
       "<caption>OLS Regression Results</caption>\n",
       "<tr>\n",
       "  <th>Dep. Variable:</th>      <td>PANSS_Total_x</td>  <th>  R-squared (uncentered):</th>      <td>   0.986</td>\n",
       "</tr>\n",
       "<tr>\n",
       "  <th>Model:</th>                   <td>OLS</td>       <th>  Adj. R-squared (uncentered):</th> <td>   0.986</td>\n",
       "</tr>\n",
       "<tr>\n",
       "  <th>Method:</th>             <td>Least Squares</td>  <th>  F-statistic:       </th>          <td>   2750.</td>\n",
       "</tr>\n",
       "<tr>\n",
       "  <th>Date:</th>             <td>Sun, 21 Mar 2021</td> <th>  Prob (F-statistic):</th>           <td>  0.00</td> \n",
       "</tr>\n",
       "<tr>\n",
       "  <th>Time:</th>                 <td>19:17:47</td>     <th>  Log-Likelihood:    </th>          <td> -3472.9</td>\n",
       "</tr>\n",
       "<tr>\n",
       "  <th>No. Observations:</th>      <td>  1033</td>      <th>  AIC:               </th>          <td>   6998.</td>\n",
       "</tr>\n",
       "<tr>\n",
       "  <th>Df Residuals:</th>          <td>  1007</td>      <th>  BIC:               </th>          <td>   7126.</td>\n",
       "</tr>\n",
       "<tr>\n",
       "  <th>Df Model:</th>              <td>    26</td>      <th>                     </th>              <td> </td>   \n",
       "</tr>\n",
       "<tr>\n",
       "  <th>Covariance Type:</th>      <td>nonrobust</td>    <th>                     </th>              <td> </td>   \n",
       "</tr>\n",
       "</table>\n",
       "<table class=\"simpletable\">\n",
       "<tr>\n",
       "             <td></td>               <th>coef</th>     <th>std err</th>      <th>t</th>      <th>P>|t|</th>  <th>[0.025</th>    <th>0.975]</th>  \n",
       "</tr>\n",
       "<tr>\n",
       "  <th>VisitDay_y</th>             <td>    0.0016</td> <td>    0.002</td> <td>    0.735</td> <td> 0.462</td> <td>   -0.003</td> <td>    0.006</td>\n",
       "</tr>\n",
       "<tr>\n",
       "  <th>PANSS_Total_y</th>          <td>    0.9662</td> <td>    0.011</td> <td>   85.608</td> <td> 0.000</td> <td>    0.944</td> <td>    0.988</td>\n",
       "</tr>\n",
       "<tr>\n",
       "  <th>Country_Argentina</th>      <td>    2.6821</td> <td>    1.633</td> <td>    1.643</td> <td> 0.101</td> <td>   -0.522</td> <td>    5.886</td>\n",
       "</tr>\n",
       "<tr>\n",
       "  <th>Country_Australia</th>      <td>    5.1858</td> <td>    3.232</td> <td>    1.604</td> <td> 0.109</td> <td>   -1.157</td> <td>   11.529</td>\n",
       "</tr>\n",
       "<tr>\n",
       "  <th>Country_Belgium</th>        <td>    5.6617</td> <td>    2.321</td> <td>    2.439</td> <td> 0.015</td> <td>    1.107</td> <td>   10.217</td>\n",
       "</tr>\n",
       "<tr>\n",
       "  <th>Country_Bulgaria</th>       <td>    1.5976</td> <td>    1.833</td> <td>    0.872</td> <td> 0.384</td> <td>   -1.999</td> <td>    5.194</td>\n",
       "</tr>\n",
       "<tr>\n",
       "  <th>Country_Canada</th>         <td>   -0.1515</td> <td>    2.447</td> <td>   -0.062</td> <td> 0.951</td> <td>   -4.954</td> <td>    4.651</td>\n",
       "</tr>\n",
       "<tr>\n",
       "  <th>Country_China</th>          <td>    0.5732</td> <td>    0.827</td> <td>    0.693</td> <td> 0.489</td> <td>   -1.050</td> <td>    2.196</td>\n",
       "</tr>\n",
       "<tr>\n",
       "  <th>Country_Czech Republic</th> <td>    4.7796</td> <td>    1.282</td> <td>    3.727</td> <td> 0.000</td> <td>    2.263</td> <td>    7.296</td>\n",
       "</tr>\n",
       "<tr>\n",
       "  <th>Country_France</th>         <td>    3.3576</td> <td>    5.046</td> <td>    0.665</td> <td> 0.506</td> <td>   -6.544</td> <td>   13.259</td>\n",
       "</tr>\n",
       "<tr>\n",
       "  <th>Country_Germany</th>        <td>    2.6358</td> <td>    2.125</td> <td>    1.240</td> <td> 0.215</td> <td>   -1.534</td> <td>    6.806</td>\n",
       "</tr>\n",
       "<tr>\n",
       "  <th>Country_Greece</th>         <td>   -0.3266</td> <td>    2.768</td> <td>   -0.118</td> <td> 0.906</td> <td>   -5.758</td> <td>    5.105</td>\n",
       "</tr>\n",
       "<tr>\n",
       "  <th>Country_Hungary</th>        <td>    0.9378</td> <td>    1.613</td> <td>    0.582</td> <td> 0.561</td> <td>   -2.227</td> <td>    4.102</td>\n",
       "</tr>\n",
       "<tr>\n",
       "  <th>Country_India</th>          <td>    0.3845</td> <td>    1.441</td> <td>    0.267</td> <td> 0.790</td> <td>   -2.443</td> <td>    3.212</td>\n",
       "</tr>\n",
       "<tr>\n",
       "  <th>Country_Japan</th>          <td>    4.1816</td> <td>    0.983</td> <td>    4.256</td> <td> 0.000</td> <td>    2.254</td> <td>    6.110</td>\n",
       "</tr>\n",
       "<tr>\n",
       "  <th>Country_Korea</th>          <td>    1.5953</td> <td>    2.237</td> <td>    0.713</td> <td> 0.476</td> <td>   -2.795</td> <td>    5.986</td>\n",
       "</tr>\n",
       "<tr>\n",
       "  <th>Country_Mexico</th>         <td>    0.9383</td> <td>    2.159</td> <td>    0.435</td> <td> 0.664</td> <td>   -3.298</td> <td>    5.175</td>\n",
       "</tr>\n",
       "<tr>\n",
       "  <th>Country_Poland</th>         <td>    3.6684</td> <td>    1.420</td> <td>    2.583</td> <td> 0.010</td> <td>    0.881</td> <td>    6.455</td>\n",
       "</tr>\n",
       "<tr>\n",
       "  <th>Country_Portugal</th>       <td>    2.3327</td> <td>    1.799</td> <td>    1.297</td> <td> 0.195</td> <td>   -1.197</td> <td>    5.863</td>\n",
       "</tr>\n",
       "<tr>\n",
       "  <th>Country_Romania</th>        <td>    0.5267</td> <td>    1.793</td> <td>    0.294</td> <td> 0.769</td> <td>   -2.992</td> <td>    4.045</td>\n",
       "</tr>\n",
       "<tr>\n",
       "  <th>Country_Russia</th>         <td>    0.5430</td> <td>    0.840</td> <td>    0.646</td> <td> 0.518</td> <td>   -1.106</td> <td>    2.192</td>\n",
       "</tr>\n",
       "<tr>\n",
       "  <th>Country_Slovakia</th>       <td>    2.5537</td> <td>    1.711</td> <td>    1.492</td> <td> 0.136</td> <td>   -0.804</td> <td>    5.912</td>\n",
       "</tr>\n",
       "<tr>\n",
       "  <th>Country_Spain</th>          <td>    3.0970</td> <td>    1.582</td> <td>    1.957</td> <td> 0.051</td> <td>   -0.008</td> <td>    6.202</td>\n",
       "</tr>\n",
       "<tr>\n",
       "  <th>Country_Taiwan</th>         <td>    5.8576</td> <td>    2.219</td> <td>    2.640</td> <td> 0.008</td> <td>    1.503</td> <td>   10.212</td>\n",
       "</tr>\n",
       "<tr>\n",
       "  <th>Country_USA</th>            <td>    3.0493</td> <td>    0.993</td> <td>    3.072</td> <td> 0.002</td> <td>    1.102</td> <td>    4.997</td>\n",
       "</tr>\n",
       "<tr>\n",
       "  <th>TxGroup_Treatment</th>      <td>   -0.7278</td> <td>    0.440</td> <td>   -1.654</td> <td> 0.099</td> <td>   -1.592</td> <td>    0.136</td>\n",
       "</tr>\n",
       "</table>\n",
       "<table class=\"simpletable\">\n",
       "<tr>\n",
       "  <th>Omnibus:</th>       <td>651.469</td> <th>  Durbin-Watson:     </th> <td>   2.119</td>\n",
       "</tr>\n",
       "<tr>\n",
       "  <th>Prob(Omnibus):</th> <td> 0.000</td>  <th>  Jarque-Bera (JB):  </th> <td>9634.262</td>\n",
       "</tr>\n",
       "<tr>\n",
       "  <th>Skew:</th>          <td> 2.654</td>  <th>  Prob(JB):          </th> <td>    0.00</td>\n",
       "</tr>\n",
       "<tr>\n",
       "  <th>Kurtosis:</th>      <td>16.988</td>  <th>  Cond. No.          </th> <td>5.56e+03</td>\n",
       "</tr>\n",
       "</table><br/><br/>Notes:<br/>[1] R² is computed without centering (uncentered) since the model does not contain a constant.<br/>[2] Standard Errors assume that the covariance matrix of the errors is correctly specified.<br/>[3] The condition number is large, 5.56e+03. This might indicate that there are<br/>strong multicollinearity or other numerical problems."
      ],
      "text/plain": [
       "<class 'statsmodels.iolib.summary.Summary'>\n",
       "\"\"\"\n",
       "                                 OLS Regression Results                                \n",
       "=======================================================================================\n",
       "Dep. Variable:          PANSS_Total_x   R-squared (uncentered):                   0.986\n",
       "Model:                            OLS   Adj. R-squared (uncentered):              0.986\n",
       "Method:                 Least Squares   F-statistic:                              2750.\n",
       "Date:                Sun, 21 Mar 2021   Prob (F-statistic):                        0.00\n",
       "Time:                        19:17:47   Log-Likelihood:                         -3472.9\n",
       "No. Observations:                1033   AIC:                                      6998.\n",
       "Df Residuals:                    1007   BIC:                                      7126.\n",
       "Df Model:                          26                                                  \n",
       "Covariance Type:            nonrobust                                                  \n",
       "==========================================================================================\n",
       "                             coef    std err          t      P>|t|      [0.025      0.975]\n",
       "------------------------------------------------------------------------------------------\n",
       "VisitDay_y                 0.0016      0.002      0.735      0.462      -0.003       0.006\n",
       "PANSS_Total_y              0.9662      0.011     85.608      0.000       0.944       0.988\n",
       "Country_Argentina          2.6821      1.633      1.643      0.101      -0.522       5.886\n",
       "Country_Australia          5.1858      3.232      1.604      0.109      -1.157      11.529\n",
       "Country_Belgium            5.6617      2.321      2.439      0.015       1.107      10.217\n",
       "Country_Bulgaria           1.5976      1.833      0.872      0.384      -1.999       5.194\n",
       "Country_Canada            -0.1515      2.447     -0.062      0.951      -4.954       4.651\n",
       "Country_China              0.5732      0.827      0.693      0.489      -1.050       2.196\n",
       "Country_Czech Republic     4.7796      1.282      3.727      0.000       2.263       7.296\n",
       "Country_France             3.3576      5.046      0.665      0.506      -6.544      13.259\n",
       "Country_Germany            2.6358      2.125      1.240      0.215      -1.534       6.806\n",
       "Country_Greece            -0.3266      2.768     -0.118      0.906      -5.758       5.105\n",
       "Country_Hungary            0.9378      1.613      0.582      0.561      -2.227       4.102\n",
       "Country_India              0.3845      1.441      0.267      0.790      -2.443       3.212\n",
       "Country_Japan              4.1816      0.983      4.256      0.000       2.254       6.110\n",
       "Country_Korea              1.5953      2.237      0.713      0.476      -2.795       5.986\n",
       "Country_Mexico             0.9383      2.159      0.435      0.664      -3.298       5.175\n",
       "Country_Poland             3.6684      1.420      2.583      0.010       0.881       6.455\n",
       "Country_Portugal           2.3327      1.799      1.297      0.195      -1.197       5.863\n",
       "Country_Romania            0.5267      1.793      0.294      0.769      -2.992       4.045\n",
       "Country_Russia             0.5430      0.840      0.646      0.518      -1.106       2.192\n",
       "Country_Slovakia           2.5537      1.711      1.492      0.136      -0.804       5.912\n",
       "Country_Spain              3.0970      1.582      1.957      0.051      -0.008       6.202\n",
       "Country_Taiwan             5.8576      2.219      2.640      0.008       1.503      10.212\n",
       "Country_USA                3.0493      0.993      3.072      0.002       1.102       4.997\n",
       "TxGroup_Treatment         -0.7278      0.440     -1.654      0.099      -1.592       0.136\n",
       "==============================================================================\n",
       "Omnibus:                      651.469   Durbin-Watson:                   2.119\n",
       "Prob(Omnibus):                  0.000   Jarque-Bera (JB):             9634.262\n",
       "Skew:                           2.654   Prob(JB):                         0.00\n",
       "Kurtosis:                      16.988   Cond. No.                     5.56e+03\n",
       "==============================================================================\n",
       "\n",
       "Notes:\n",
       "[1] R² is computed without centering (uncentered) since the model does not contain a constant.\n",
       "[2] Standard Errors assume that the covariance matrix of the errors is correctly specified.\n",
       "[3] The condition number is large, 5.56e+03. This might indicate that there are\n",
       "strong multicollinearity or other numerical problems.\n",
       "\"\"\""
      ]
     },
     "execution_count": 626,
     "metadata": {},
     "output_type": "execute_result"
    }
   ],
   "source": [
    "X = pd.get_dummies(prediction, columns = ['Country', 'TxGroup'], prefix = ['Country', 'TxGroup'])\n",
    "X = X.drop(columns = ['PANSS_Total_x', 'Country_Ukraine', 'TxGroup_Control', 'VisitDay_x', 'PatientID', 'LeadStatus_x', 'LeadStatus_y'])\n",
    "Y = prediction[['PANSS_Total_x']]\n",
    "OLS(Y,X).fit().summary()"
   ]
  },
  {
   "cell_type": "markdown",
   "metadata": {},
   "source": [
    "See how our model does on validation data set.\n",
    "RMSE on validation data set is 6.67, indicating our predicted PANSS_Total is on average 6.67 from their true value."
   ]
  },
  {
   "cell_type": "code",
   "execution_count": 59,
   "metadata": {},
   "outputs": [],
   "source": [
    "from sklearn.model_selection import train_test_split\n",
    "X = np.array(X).reshape([-1, X.shape[1]])\n",
    "Y = np.array(Y).reshape([-1, 1])\n",
    "X_train, X_test, Y_train, Y_test = train_test_split(X, Y, test_size = 0.2, random_state = 1)\n",
    "model = LinearRegression()\n",
    "lm = model.fit(X_train, Y_train)\n",
    "lm.score(X_train, Y_train)\n",
    "lm.score(X_test, Y_test)\n",
    "Y_pred = lm.predict(X_test)\n",
    "RMSE = np.sqrt(np.square(Y_test - Y_pred).mean())"
   ]
  },
  {
   "cell_type": "markdown",
   "metadata": {},
   "source": [
    "Goal 4. Classification of assessment errorneous. For this goal, we need to use all observations regardless of assessment flag.\n"
   ]
  },
  {
   "cell_type": "code",
   "execution_count": 60,
   "metadata": {},
   "outputs": [],
   "source": [
    "from sklearn.metrics import log_loss\n",
    "cls = study\n",
    "cls['flag'] = 0\n",
    "cls.loc[cls.LeadStatus != 'Passed', 'flag'] = 1\n",
    "cls = cls[['TxGroup', 'VisitDay', 'PANSS_P', 'PANSS_N', 'PANSS_G', 'relevant_visit_day', 'flag']]\n",
    "X = pd.get_dummies(cls, columns = ['TxGroup'])\n",
    "X = X.drop(['TxGroup_Control', 'flag'], axis = 1)\n",
    "Y = cls[['flag']]\n",
    "im_balance = cls[cls.flag == 0].shape[0]/cls.shape[0]"
   ]
  },
  {
   "cell_type": "markdown",
   "metadata": {},
   "source": [
    "Compared to data imbalance 0.76, the accuracy of 0.82 is not good.\n",
    "Let's try random forest. Random forest with max-depth = 17 improves the model accuracy slightly better to 0.84, and test log loss improved from 0.42 to o.395."
   ]
  },
  {
   "cell_type": "code",
   "execution_count": 64,
   "metadata": {},
   "outputs": [
    {
     "name": "stderr",
     "output_type": "stream",
     "text": [
      "/opt/anaconda3/lib/python3.8/site-packages/sklearn/utils/validation.py:72: DataConversionWarning: A column-vector y was passed when a 1d array was expected. Please change the shape of y to (n_samples, ), for example using ravel().\n",
      "  return f(**kwargs)\n"
     ]
    },
    {
     "name": "stdout",
     "output_type": "stream",
     "text": [
      "0.8198397082113548\n"
     ]
    },
    {
     "data": {
      "text/plain": [
       "0.4190007210099748"
      ]
     },
     "execution_count": 64,
     "metadata": {},
     "output_type": "execute_result"
    }
   ],
   "source": [
    "lr = LogisticRegression(solver='newton-cg')\n",
    "stay_cl = lr.fit(X, Y)\n",
    "print(stay_cl.score(X, Y))\n",
    "roc_auc_score(Y, stay_cl.decision_function(X))\n",
    "Y_pred = stay_cl.predict_proba(X_test)\n",
    "log_loss(Y_test, Y_pred)"
   ]
  },
  {
   "cell_type": "code",
   "execution_count": 65,
   "metadata": {},
   "outputs": [
    {
     "name": "stderr",
     "output_type": "stream",
     "text": [
      "<ipython-input-65-b0ed24390d25>:6: DataConversionWarning: A column-vector y was passed when a 1d array was expected. Please change the shape of y to (n_samples,), for example using ravel().\n",
      "  rmf = cls.fit(X_train, Y_train)\n",
      "<ipython-input-65-b0ed24390d25>:6: DataConversionWarning: A column-vector y was passed when a 1d array was expected. Please change the shape of y to (n_samples,), for example using ravel().\n",
      "  rmf = cls.fit(X_train, Y_train)\n",
      "<ipython-input-65-b0ed24390d25>:6: DataConversionWarning: A column-vector y was passed when a 1d array was expected. Please change the shape of y to (n_samples,), for example using ravel().\n",
      "  rmf = cls.fit(X_train, Y_train)\n",
      "<ipython-input-65-b0ed24390d25>:6: DataConversionWarning: A column-vector y was passed when a 1d array was expected. Please change the shape of y to (n_samples,), for example using ravel().\n",
      "  rmf = cls.fit(X_train, Y_train)\n",
      "<ipython-input-65-b0ed24390d25>:6: DataConversionWarning: A column-vector y was passed when a 1d array was expected. Please change the shape of y to (n_samples,), for example using ravel().\n",
      "  rmf = cls.fit(X_train, Y_train)\n",
      "<ipython-input-65-b0ed24390d25>:6: DataConversionWarning: A column-vector y was passed when a 1d array was expected. Please change the shape of y to (n_samples,), for example using ravel().\n",
      "  rmf = cls.fit(X_train, Y_train)\n",
      "<ipython-input-65-b0ed24390d25>:6: DataConversionWarning: A column-vector y was passed when a 1d array was expected. Please change the shape of y to (n_samples,), for example using ravel().\n",
      "  rmf = cls.fit(X_train, Y_train)\n",
      "<ipython-input-65-b0ed24390d25>:6: DataConversionWarning: A column-vector y was passed when a 1d array was expected. Please change the shape of y to (n_samples,), for example using ravel().\n",
      "  rmf = cls.fit(X_train, Y_train)\n",
      "<ipython-input-65-b0ed24390d25>:6: DataConversionWarning: A column-vector y was passed when a 1d array was expected. Please change the shape of y to (n_samples,), for example using ravel().\n",
      "  rmf = cls.fit(X_train, Y_train)\n",
      "<ipython-input-65-b0ed24390d25>:6: DataConversionWarning: A column-vector y was passed when a 1d array was expected. Please change the shape of y to (n_samples,), for example using ravel().\n",
      "  rmf = cls.fit(X_train, Y_train)\n",
      "<ipython-input-65-b0ed24390d25>:6: DataConversionWarning: A column-vector y was passed when a 1d array was expected. Please change the shape of y to (n_samples,), for example using ravel().\n",
      "  rmf = cls.fit(X_train, Y_train)\n",
      "<ipython-input-65-b0ed24390d25>:6: DataConversionWarning: A column-vector y was passed when a 1d array was expected. Please change the shape of y to (n_samples,), for example using ravel().\n",
      "  rmf = cls.fit(X_train, Y_train)\n",
      "<ipython-input-65-b0ed24390d25>:6: DataConversionWarning: A column-vector y was passed when a 1d array was expected. Please change the shape of y to (n_samples,), for example using ravel().\n",
      "  rmf = cls.fit(X_train, Y_train)\n",
      "<ipython-input-65-b0ed24390d25>:6: DataConversionWarning: A column-vector y was passed when a 1d array was expected. Please change the shape of y to (n_samples,), for example using ravel().\n",
      "  rmf = cls.fit(X_train, Y_train)\n",
      "<ipython-input-65-b0ed24390d25>:6: DataConversionWarning: A column-vector y was passed when a 1d array was expected. Please change the shape of y to (n_samples,), for example using ravel().\n",
      "  rmf = cls.fit(X_train, Y_train)\n",
      "<ipython-input-65-b0ed24390d25>:6: DataConversionWarning: A column-vector y was passed when a 1d array was expected. Please change the shape of y to (n_samples,), for example using ravel().\n",
      "  rmf = cls.fit(X_train, Y_train)\n",
      "<ipython-input-65-b0ed24390d25>:6: DataConversionWarning: A column-vector y was passed when a 1d array was expected. Please change the shape of y to (n_samples,), for example using ravel().\n",
      "  rmf = cls.fit(X_train, Y_train)\n",
      "<ipython-input-65-b0ed24390d25>:6: DataConversionWarning: A column-vector y was passed when a 1d array was expected. Please change the shape of y to (n_samples,), for example using ravel().\n",
      "  rmf = cls.fit(X_train, Y_train)\n"
     ]
    },
    {
     "name": "stdout",
     "output_type": "stream",
     "text": [
      "[[2, 0.7581573896353166], [3, 0.7591170825335892], [4, 0.7675143953934741], [5, 0.7996641074856046], [6, 0.8097408829174664], [7, 0.8119001919385797], [8, 0.814299424184261], [9, 0.8186180422264875], [10, 0.8243761996161229], [11, 0.8279750479846449], [12, 0.8325335892514395], [13, 0.8358925143953935], [14, 0.8414107485604606], [15, 0.8394913627639156], [16, 0.8397312859884837], [17, 0.838531669865643], [18, 0.8399712092130518], [19, 0.8404510556621881]]\n"
     ]
    },
    {
     "name": "stderr",
     "output_type": "stream",
     "text": [
      "<ipython-input-65-b0ed24390d25>:10: DataConversionWarning: A column-vector y was passed when a 1d array was expected. Please change the shape of y to (n_samples,), for example using ravel().\n",
      "  rmf_best = cls_best.fit(X_train, Y_train)\n"
     ]
    },
    {
     "data": {
      "text/plain": [
       "0.39509512628568033"
      ]
     },
     "execution_count": 65,
     "metadata": {},
     "output_type": "execute_result"
    }
   ],
   "source": [
    "from sklearn.ensemble import RandomForestClassifier\n",
    "X_train, X_test, Y_train, Y_test = train_test_split(X, Y, stratify = Y, test_size = 0.2)\n",
    "score = []\n",
    "for d in np.arange(2, 20, 1):\n",
    "    cls = RandomForestClassifier(max_depth= d, random_state=0)\n",
    "    rmf = cls.fit(X_train, Y_train)\n",
    "    score.append([d, rmf.score(X_test, Y_test)])\n",
    "print(score)\n",
    "cls_best = RandomForestClassifier(max_depth= 17, random_state=0)\n",
    "rmf_best = cls_best.fit(X_train, Y_train)\n",
    "Y_pred = rmf_best.predict_proba(X_test)\n",
    "log_loss(Y_test, Y_pred)"
   ]
  }
 ],
 "metadata": {
  "kernelspec": {
   "display_name": "Python 3",
   "language": "python",
   "name": "python3"
  },
  "language_info": {
   "codemirror_mode": {
    "name": "ipython",
    "version": 3
   },
   "file_extension": ".py",
   "mimetype": "text/x-python",
   "name": "python",
   "nbconvert_exporter": "python",
   "pygments_lexer": "ipython3",
   "version": "3.8.5"
  }
 },
 "nbformat": 4,
 "nbformat_minor": 4
}
